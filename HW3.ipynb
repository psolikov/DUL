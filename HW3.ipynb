{
 "cells": [
  {
   "cell_type": "code",
   "execution_count": 3,
   "metadata": {},
   "outputs": [
    {
     "name": "stdout",
     "output_type": "stream",
     "text": [
      "--2019-12-07 15:06:02--  https://drive.google.com/file/d/1OJWRb5XakWPL_rZFYDS588ktwXViMYP7\n",
      "Resolving drive.google.com (drive.google.com)... 108.177.111.113, 108.177.111.138, 108.177.111.101, ...\n",
      "Connecting to drive.google.com (drive.google.com)|108.177.111.113|:443... connected.\n",
      "HTTP request sent, awaiting response... 302 Moved Temporarily\n",
      "Location: https://drive.google.com/file/d/1OJWRb5XakWPL_rZFYDS588ktwXViMYP7/ [following]\n",
      "--2019-12-07 15:06:02--  https://drive.google.com/file/d/1OJWRb5XakWPL_rZFYDS588ktwXViMYP7/\n",
      "Reusing existing connection to drive.google.com:443.\n",
      "HTTP request sent, awaiting response... 302 Moved Temporarily\n",
      "Location: https://drive.google.com/file/d/1OJWRb5XakWPL_rZFYDS588ktwXViMYP7/edit [following]\n",
      "--2019-12-07 15:06:02--  https://drive.google.com/file/d/1OJWRb5XakWPL_rZFYDS588ktwXViMYP7/edit\n",
      "Reusing existing connection to drive.google.com:443.\n",
      "HTTP request sent, awaiting response... 200 OK\n",
      "Length: unspecified [text/html]\n",
      "Saving to: ‘1OJWRb5XakWPL_rZFYDS588ktwXViMYP7’\n",
      "\n",
      "1OJWRb5XakWPL_rZFYD     [ <=>                ]  66.68K  --.-KB/s    in 0.001s  \n",
      "\n",
      "2019-12-07 15:06:02 (74.0 MB/s) - ‘1OJWRb5XakWPL_rZFYDS588ktwXViMYP7’ saved [68280]\n",
      "\n"
     ]
    }
   ],
   "source": [
    "!wget https://drive.google.com/file/d/1OJWRb5XakWPL_rZFYDS588ktwXViMYP7"
   ]
  },
  {
   "cell_type": "code",
   "execution_count": 73,
   "metadata": {},
   "outputs": [],
   "source": [
    "import pickle\n",
    "import matplotlib.pyplot as plt\n",
    "import numpy as np\n",
    "import torch\n",
    "import torch.nn as nn"
   ]
  },
  {
   "cell_type": "code",
   "execution_count": 24,
   "metadata": {},
   "outputs": [],
   "source": [
    "path_to_data = '../../data/hw2_q2.pkl'"
   ]
  },
  {
   "cell_type": "code",
   "execution_count": 37,
   "metadata": {},
   "outputs": [],
   "source": [
    "with open(path_to_data, 'rb') as file:\n",
    "    data = pickle.load(file)"
   ]
  },
  {
   "cell_type": "code",
   "execution_count": 56,
   "metadata": {},
   "outputs": [],
   "source": [
    "train = data['train']\n",
    "test = data['test']"
   ]
  },
  {
   "cell_type": "code",
   "execution_count": 59,
   "metadata": {},
   "outputs": [
    {
     "data": {
      "text/plain": [
       "(32, 32, 3)"
      ]
     },
     "execution_count": 59,
     "metadata": {},
     "output_type": "execute_result"
    }
   ],
   "source": [
    "train[0].shape"
   ]
  },
  {
   "cell_type": "code",
   "execution_count": 67,
   "metadata": {},
   "outputs": [
    {
     "data": {
      "text/plain": [
       "0"
      ]
     },
     "execution_count": 67,
     "metadata": {},
     "output_type": "execute_result"
    }
   ],
   "source": [
    "np.min(train[0])"
   ]
  },
  {
   "cell_type": "code",
   "execution_count": 70,
   "metadata": {},
   "outputs": [
    {
     "data": {
      "text/plain": [
       "<matplotlib.image.AxesImage at 0x7f3ff6a23780>"
      ]
     },
     "execution_count": 70,
     "metadata": {},
     "output_type": "execute_result"
    },
    {
     "data": {
      "image/png": "[encoded data removed]",
      "text/plain": [
       "<Figure size 432x288 with 1 Axes>"
      ]
     },
     "metadata": {
      "needs_background": "light"
     },
     "output_type": "display_data"
    }
   ],
   "source": [
    "plt.imshow(data['train'][10] * 85)"
   ]
  },
  {
   "cell_type": "code",
   "execution_count": null,
   "metadata": {},
   "outputs": [],
   "source": [
    "def tuple_flip(a_tuple: tuple):\n",
    "    return (a_tuple[1], a_tuple[0])\n",
    "\n",
    "class SumBlock(nn.Module):\n",
    "    def __init__(self, n_in, n_filters):\n",
    "        super().__init__()\n",
    "        self.n_in = n_in\n",
    "        self.n_filters = n_filters\n",
    "        self.relu = nn.ReLU()\n",
    "        self.conv = nn.Conv2d(n_in, n_filters, (1, 1), (1, 1))\n",
    "\n",
    "    def forward(self, _h):\n",
    "        _h = self.relu(_h)\n",
    "        h = self.conv(_h)\n",
    "        return h + _h\n",
    "\n",
    "class ResNetLayer(nn.Module):\n",
    "    def __init__(self, n_in, n_filters=256, n_blocks=8):\n",
    "        super().__init__()\n",
    "        self.n_in = n_in\n",
    "        self.n_out = self.n_in * 2\n",
    "        self.n_filters = n_filters\n",
    "        self.n_blocks = n_blocks\n",
    "        self.layers = nn.ModuleList()\n",
    "        self.layers.append(nn.Conv2d(self.n_in, self.n_filters, (3, 3), (1, 1)))\n",
    "        for _ in range(self.n_blocks):\n",
    "            self.layers.append(nn.Conv2d(self.n_filters, self.n_filters, (1, 1), (1, 1)))\n",
    "            self.layers.append(nn.ReLU())\n",
    "            self.layers.append(nn.Conv2d(self.n_filters, self.n_filters, (3, 3), (1, 1)))\n",
    "            self.layers.append(SumBlock(self.n_filters, self.n_filters))\n",
    "        self.layers.append(nn.ReLU())\n",
    "        self.layers.append(nn.Conv2d(self.n_filters, self.n_out, (3, 3), (1, 1)))\n",
    "        \n",
    "    def forward(self, x):\n",
    "        z = x\n",
    "        for layer in self.layers:\n",
    "            z = layer(z)\n",
    "        return z      \n",
    "    \n",
    "class AffineCoupling(nn.Module):\n",
    "    def __init__(self, n_in):\n",
    "        super().__init__()\n",
    "        self.n_in = n_in\n",
    "        self.resnet = ResNetLayer(n_in)\n",
    "\n",
    "    def forward(self, x):\n",
    "        x1, x2 = x\n",
    "        y1 = x1\n",
    "        y2 = x2\n",
    "        log_s, t = torch.split(self.resnet(x1), 2, axis=-1)\n",
    "        y2 = torch.exp(log_s) * (y1 + t)\n",
    "        return (y1, y2)"
   ]
  },
  {
   "cell_type": "code",
   "execution_count": 178,
   "metadata": {},
   "outputs": [
    {
     "data": {
      "text/plain": [
       "torch.Size([10, 6, 12, 12])"
      ]
     },
     "execution_count": 178,
     "metadata": {},
     "output_type": "execute_result"
    }
   ],
   "source": [
    "kek = ResNetLayer(3, 2)\n",
    "test_input = torch.from_numpy(train[:10]).view(-1, 3, 32, 32)\n",
    "test_input = test_input.float()\n",
    "kek(test_input).shape"
   ]
  },
  {
   "cell_type": "code",
   "execution_count": 188,
   "metadata": {},
   "outputs": [
    {
     "data": {
      "text/plain": [
       "AffineCoupling(\n",
       "  (resnet): ResNetLayer(\n",
       "    (layers): ModuleList(\n",
       "      (0): Conv2d(1, 256, kernel_size=(3, 3), stride=(1, 1))\n",
       "      (1): Conv2d(256, 256, kernel_size=(1, 1), stride=(1, 1))\n",
       "      (2): ReLU()\n",
       "      (3): Conv2d(256, 256, kernel_size=(3, 3), stride=(1, 1))\n",
       "      (4): SumBlock(\n",
       "        (relu): ReLU()\n",
       "        (conv): Conv2d(256, 256, kernel_size=(1, 1), stride=(1, 1))\n",
       "      )\n",
       "      (5): Conv2d(256, 256, kernel_size=(1, 1), stride=(1, 1))\n",
       "      (6): ReLU()\n",
       "      (7): Conv2d(256, 256, kernel_size=(3, 3), stride=(1, 1))\n",
       "      (8): SumBlock(\n",
       "        (relu): ReLU()\n",
       "        (conv): Conv2d(256, 256, kernel_size=(1, 1), stride=(1, 1))\n",
       "      )\n",
       "      (9): Conv2d(256, 256, kernel_size=(1, 1), stride=(1, 1))\n",
       "      (10): ReLU()\n",
       "      (11): Conv2d(256, 256, kernel_size=(3, 3), stride=(1, 1))\n",
       "      (12): SumBlock(\n",
       "        (relu): ReLU()\n",
       "        (conv): Conv2d(256, 256, kernel_size=(1, 1), stride=(1, 1))\n",
       "      )\n",
       "      (13): Conv2d(256, 256, kernel_size=(1, 1), stride=(1, 1))\n",
       "      (14): ReLU()\n",
       "      (15): Conv2d(256, 256, kernel_size=(3, 3), stride=(1, 1))\n",
       "      (16): SumBlock(\n",
       "        (relu): ReLU()\n",
       "        (conv): Conv2d(256, 256, kernel_size=(1, 1), stride=(1, 1))\n",
       "      )\n",
       "      (17): Conv2d(256, 256, kernel_size=(1, 1), stride=(1, 1))\n",
       "      (18): ReLU()\n",
       "      (19): Conv2d(256, 256, kernel_size=(3, 3), stride=(1, 1))\n",
       "      (20): SumBlock(\n",
       "        (relu): ReLU()\n",
       "        (conv): Conv2d(256, 256, kernel_size=(1, 1), stride=(1, 1))\n",
       "      )\n",
       "      (21): Conv2d(256, 256, kernel_size=(1, 1), stride=(1, 1))\n",
       "      (22): ReLU()\n",
       "      (23): Conv2d(256, 256, kernel_size=(3, 3), stride=(1, 1))\n",
       "      (24): SumBlock(\n",
       "        (relu): ReLU()\n",
       "        (conv): Conv2d(256, 256, kernel_size=(1, 1), stride=(1, 1))\n",
       "      )\n",
       "      (25): Conv2d(256, 256, kernel_size=(1, 1), stride=(1, 1))\n",
       "      (26): ReLU()\n",
       "      (27): Conv2d(256, 256, kernel_size=(3, 3), stride=(1, 1))\n",
       "      (28): SumBlock(\n",
       "        (relu): ReLU()\n",
       "        (conv): Conv2d(256, 256, kernel_size=(1, 1), stride=(1, 1))\n",
       "      )\n",
       "      (29): Conv2d(256, 256, kernel_size=(1, 1), stride=(1, 1))\n",
       "      (30): ReLU()\n",
       "      (31): Conv2d(256, 256, kernel_size=(3, 3), stride=(1, 1))\n",
       "      (32): SumBlock(\n",
       "        (relu): ReLU()\n",
       "        (conv): Conv2d(256, 256, kernel_size=(1, 1), stride=(1, 1))\n",
       "      )\n",
       "      (33): ReLU()\n",
       "      (34): Conv2d(256, 2, kernel_size=(3, 3), stride=(1, 1))\n",
       "    )\n",
       "  )\n",
       ")"
      ]
     },
     "execution_count": 188,
     "metadata": {},
     "output_type": "execute_result"
    }
   ],
   "source": [
    "AffineCoupling(1)"
   ]
  },
  {
   "cell_type": "code",
   "execution_count": 196,
   "metadata": {},
   "outputs": [
    {
     "data": {
      "text/plain": [
       "torch.Size([10, 3, 32, 32])"
      ]
     },
     "execution_count": 196,
     "metadata": {},
     "output_type": "execute_result"
    }
   ],
   "source": [
    "AffineCoupling(3)((test_input, test_input))[0].shape"
   ]
  },
  {
   "cell_type": "code",
   "execution_count": null,
   "metadata": {},
   "outputs": [],
   "source": []
  }
 ],
 "metadata": {
  "kernelspec": {
   "display_name": "Python 3",
   "language": "python",
   "name": "python3"
  },
  "language_info": {
   "codemirror_mode": {
    "name": "ipython",
    "version": 3
   },
   "file_extension": ".py",
   "mimetype": "text/x-python",
   "name": "python",
   "nbconvert_exporter": "python",
   "pygments_lexer": "ipython3",
   "version": "3.6.9"
  }
 },
 "nbformat": 4,
 "nbformat_minor": 2
}
