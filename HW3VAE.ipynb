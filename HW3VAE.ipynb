{
 "cells": [
  {
   "cell_type": "code",
   "execution_count": 59,
   "metadata": {},
   "outputs": [],
   "source": [
    "import torch\n",
    "import torch.nn as nn\n",
    "import torch.nn.functional as F\n",
    "import torch.utils.data\n",
    "import numpy as np\n",
    "import matplotlib.pyplot as plt\n",
    "import pickle\n",
    "import os\n",
    "import csv\n",
    "from tqdm import tqdm\n",
    "from sklearn.model_selection import train_test_split"
   ]
  },
  {
   "cell_type": "code",
   "execution_count": 5,
   "metadata": {},
   "outputs": [],
   "source": [
    "import numpy as np\n",
    "\n",
    "def sample_data_1():\n",
    "    count = 100000\n",
    "    rand = np.random.RandomState(0)\n",
    "    return [[1.0, 2.0]] + rand.randn(count, 2) * [[5.0, 1.0]]\n",
    "\n",
    "def sample_data_2():\n",
    "    count = 100000\n",
    "    rand = np.random.RandomState(0)\n",
    "    return [[1.0, 2.0]] + (rand.randn(count, 2) * [[5.0, 1.0]]).dot([[np.sqrt(2) / 2, np.sqrt(2) / 2], [-np.sqrt(2) / 2, np.sqrt(2) / 2]])\n",
    "\n",
    "def sample_data_3():\n",
    "    count = 100000\n",
    "    rand = np.random.RandomState(0)\n",
    "    a = [[-1.5, 2.5]] + rand.randn(count // 3, 2) * 0.2\n",
    "    b = [[1.5, 2.5]] + rand.randn(count // 3, 2) * 0.2\n",
    "    c = np.c_[2 * np.cos(np.linspace(0, np.pi, count // 3)),\n",
    "    -np.sin(np.linspace(0, np.pi, count // 3))]\n",
    "\n",
    "    c += rand.randn(*c.shape) * 0.2\n",
    "    data_x = np.concatenate([a, b, c], axis=0)\n",
    "    data_y = np.array([0] * len(a) + [1] * len(b) + [2] * len(c))\n",
    "    perm = rand.permutation(len(data_x))\n",
    "    return data_x[perm], data_y[perm]"
   ]
  },
  {
   "cell_type": "code",
   "execution_count": 44,
   "metadata": {},
   "outputs": [],
   "source": [
    "device = torch.device('cuda:0' if torch.cuda.is_available() else 'cpu')"
   ]
  },
  {
   "cell_type": "code",
   "execution_count": 45,
   "metadata": {},
   "outputs": [
    {
     "data": {
      "text/plain": [
       "device(type='cpu')"
      ]
     },
     "execution_count": 45,
     "metadata": {},
     "output_type": "execute_result"
    }
   ],
   "source": [
    "device"
   ]
  },
  {
   "cell_type": "code",
   "execution_count": 6,
   "metadata": {},
   "outputs": [],
   "source": [
    "data_1 = sample_data_1()\n",
    "data_2 = sample_data_2()\n",
    "data_3 = sample_data_3()"
   ]
  },
  {
   "cell_type": "code",
   "execution_count": 69,
   "metadata": {},
   "outputs": [],
   "source": [
    "class VAEEncoder(nn.Module):\n",
    "    def __init__(self, dim, lin_dim):\n",
    "        super().__init__()\n",
    "        self.dim = dim\n",
    "        self.lin_dim=lin_dim\n",
    "        self.linear = nn.Linear(dim, lin_dim)\n",
    "        self.relu = nn.ReLU()\n",
    "        \n",
    "    def encode(self, x, muf, sigmaf):\n",
    "        z = self.forward(x)\n",
    "        mu = muf(z)\n",
    "        sigma = sigmaf(z)\n",
    "        return mu, torch.exp(sigma * 0.5)\n",
    "        \n",
    "    def forward(self, x):\n",
    "        z = self.linear(x)\n",
    "        z = self.relu(z)\n",
    "        return z\n",
    "\n",
    "class VAEDecoder(nn.Module):\n",
    "    def __init__(self, dim, lin_dim):\n",
    "        super().__init__()\n",
    "        self.dim = dim\n",
    "        self.lin_dim=lin_dim\n",
    "        self.linear = nn.Linear(dim, lin_dim)\n",
    "        self.relu = nn.ReLU()\n",
    "        \n",
    "    def decode(self, x, muf, sigmaf):\n",
    "        z = self.forward(x)\n",
    "        mu = muf(z)\n",
    "        sigma = sigmaf(z)\n",
    "        return mu, torch.exp(sigma * 0.5)        \n",
    "        \n",
    "    def forward(self, x):\n",
    "        z = self.linear(x)\n",
    "        z = self.relu(z)\n",
    "        return z\n",
    "        \n",
    "class VAE(nn.Module):\n",
    "    def __init__(self, latd=2, ind=2, lin_dim=64):\n",
    "        super().__init__()\n",
    "        self.latd = latd\n",
    "        self.ind = ind\n",
    "        self.encoder = VAEEncoder(ind, lin_dim)\n",
    "        self.decoder = VAEDecoder(latd, lin_dim)\n",
    "        self.mu_x = nn.Linear(lin_dim, ind)\n",
    "        self.mu_z = nn.Linear(lin_dim, latd)\n",
    "        self.sigma_x = nn.Linear(lin_dim, ind)\n",
    "        self.sigma_z = nn.Linear(lin_dim, latd)\n",
    "        \n",
    "    def sample(self, mu, sigma):\n",
    "        if not self.training:\n",
    "            return mu\n",
    "        standard = torch.distributions.Normal(torch.tensor([0.0]), torch.tensor([1.0])).sample(mu.shape).to(device).view(mu.shape)\n",
    "        return mu + standard * sigma\n",
    "    \n",
    "    def forward(self, x):\n",
    "        mu_z, sigma_z = self.encoder.encode(x, self.mu_z, self.sigma_z)\n",
    "        z = self.sample(mu_z, sigma_z)\n",
    "        mu_x, sigma_x = self.decoder.decode(z, self.mu_x, self.sigma_x)\n",
    "        z = self.sample(mu_x, sigma_x)\n",
    "        return mu_z, sigma_z, mu_x, sigma_x\n",
    "        "
   ]
  },
  {
   "cell_type": "code",
   "execution_count": 70,
   "metadata": {},
   "outputs": [],
   "source": [
    "class VAELoss(nn.Module):\n",
    "    def __init__(self, kl_loss, cross_entropy):\n",
    "        super().__init__()\n",
    "        self.kl_loss = kl_loss\n",
    "        self.cross_entropy = cross_entropy\n",
    "        \n",
    "    def forward(self, x, mu_x, sigma_x, mu_z, sigma_z):\n",
    "        kl = self.kl_loss(mu_z, sigma_z)\n",
    "        cross_entropy = self.cross_entropy(x, mu_x, sigma_x)\n",
    "        return kl + cross_entropy"
   ]
  },
  {
   "cell_type": "code",
   "execution_count": 133,
   "metadata": {},
   "outputs": [
    {
     "data": {
      "text/plain": [
       "(tensor([[ 0.0682, -0.2141]], grad_fn=<AddmmBackward>),\n",
       " tensor([[0.9856, 0.7465]], grad_fn=<ExpBackward>),\n",
       " tensor([[0.3996, 0.1842]], grad_fn=<AddmmBackward>),\n",
       " tensor([[0.8363, 1.2958]], grad_fn=<ExpBackward>))"
      ]
     },
     "execution_count": 133,
     "metadata": {},
     "output_type": "execute_result"
    }
   ],
   "source": [
    "VAE()(torch.FloatTensor(np.array([[1.0, 1.0]])))"
   ]
  },
  {
   "cell_type": "code",
   "execution_count": 137,
   "metadata": {},
   "outputs": [],
   "source": [
    "model = VAE()\n",
    "opt = torch.optim.Adam(params=model.parameters())\n",
    "loss = VAELoss(lambda x, y: 0, lambda x, y, z: 0)"
   ]
  },
  {
   "cell_type": "code",
   "execution_count": 153,
   "metadata": {},
   "outputs": [],
   "source": [
    "def train(model, opt, criterion, data, n_epoch, batch_size):\n",
    "    data_train, data_test = train_test_split(data, test_size=0.2, random_state=42)\n",
    "    train_loader = torch.utils.data.DataLoader(data_train, batch_size=batch_size, shuffle=True)\n",
    "    test_loader = torch.utils.data.DataLoader(data_test, batch_size=batch_size, shuffle=False)\n",
    "    \n",
    "    train_loss = []\n",
    "    test_loss = []\n",
    "    for epoch in tqdm(range(n_epoch)):\n",
    "        train_loss_epoch = []\n",
    "        test_loss_epoch = []\n",
    "        for batch in train_loader:\n",
    "            opt.zero_grad()\n",
    "            batch = batch.float()\n",
    "            batch = batch.to(device)\n",
    "            mu_z, sigma_z, mu_x, sigma_x = model(batch)\n",
    "            loss = criterion(batch, mu_z, sigma_z, mu_x, sigma_x)\n",
    "            train_loss_epoch.append(loss.item())\n",
    "            loss.backward()\n",
    "            opt.step()\n",
    "        train_loss.append(np.mean(train_loss_epoch))"
   ]
  },
  {
   "cell_type": "code",
   "execution_count": 154,
   "metadata": {},
   "outputs": [
    {
     "name": "stderr",
     "output_type": "stream",
     "text": [
      "\n",
      "\n",
      "  0%|          | 0/10 [00:00<?, ?it/s]\u001b[A\u001b[A"
     ]
    },
    {
     "ename": "AttributeError",
     "evalue": "'int' object has no attribute 'item'",
     "output_type": "error",
     "traceback": [
      "\u001b[0;31m---------------------------------------------------------------------------\u001b[0m",
      "\u001b[0;31mAttributeError\u001b[0m                            Traceback (most recent call last)",
      "\u001b[0;32m<ipython-input-154-970e8715c64e>\u001b[0m in \u001b[0;36m<module>\u001b[0;34m\u001b[0m\n\u001b[0;32m----> 1\u001b[0;31m \u001b[0mtrain\u001b[0m\u001b[0;34m(\u001b[0m\u001b[0mmodel\u001b[0m\u001b[0;34m,\u001b[0m \u001b[0mopt\u001b[0m\u001b[0;34m,\u001b[0m \u001b[0mloss\u001b[0m\u001b[0;34m,\u001b[0m \u001b[0mdata_1\u001b[0m\u001b[0;34m,\u001b[0m \u001b[0;36m10\u001b[0m\u001b[0;34m,\u001b[0m \u001b[0;36m10\u001b[0m\u001b[0;34m)\u001b[0m\u001b[0;34m\u001b[0m\u001b[0;34m\u001b[0m\u001b[0m\n\u001b[0m",
      "\u001b[0;32m<ipython-input-153-6f6fc67600a2>\u001b[0m in \u001b[0;36mtrain\u001b[0;34m(model, opt, criterion, data, n_epoch, batch_size)\u001b[0m\n\u001b[1;32m     15\u001b[0m             \u001b[0mmu_z\u001b[0m\u001b[0;34m,\u001b[0m \u001b[0msigma_z\u001b[0m\u001b[0;34m,\u001b[0m \u001b[0mmu_x\u001b[0m\u001b[0;34m,\u001b[0m \u001b[0msigma_x\u001b[0m \u001b[0;34m=\u001b[0m \u001b[0mmodel\u001b[0m\u001b[0;34m(\u001b[0m\u001b[0mbatch\u001b[0m\u001b[0;34m)\u001b[0m\u001b[0;34m\u001b[0m\u001b[0;34m\u001b[0m\u001b[0m\n\u001b[1;32m     16\u001b[0m             \u001b[0mloss\u001b[0m \u001b[0;34m=\u001b[0m \u001b[0mcriterion\u001b[0m\u001b[0;34m(\u001b[0m\u001b[0mbatch\u001b[0m\u001b[0;34m,\u001b[0m \u001b[0mmu_z\u001b[0m\u001b[0;34m,\u001b[0m \u001b[0msigma_z\u001b[0m\u001b[0;34m,\u001b[0m \u001b[0mmu_x\u001b[0m\u001b[0;34m,\u001b[0m \u001b[0msigma_x\u001b[0m\u001b[0;34m)\u001b[0m\u001b[0;34m\u001b[0m\u001b[0;34m\u001b[0m\u001b[0m\n\u001b[0;32m---> 17\u001b[0;31m             \u001b[0mtrain_loss_epoch\u001b[0m\u001b[0;34m.\u001b[0m\u001b[0mappend\u001b[0m\u001b[0;34m(\u001b[0m\u001b[0mloss\u001b[0m\u001b[0;34m.\u001b[0m\u001b[0mitem\u001b[0m\u001b[0;34m(\u001b[0m\u001b[0;34m)\u001b[0m\u001b[0;34m)\u001b[0m\u001b[0;34m\u001b[0m\u001b[0;34m\u001b[0m\u001b[0m\n\u001b[0m\u001b[1;32m     18\u001b[0m             \u001b[0mloss\u001b[0m\u001b[0;34m.\u001b[0m\u001b[0mbackward\u001b[0m\u001b[0;34m(\u001b[0m\u001b[0;34m)\u001b[0m\u001b[0;34m\u001b[0m\u001b[0;34m\u001b[0m\u001b[0m\n\u001b[1;32m     19\u001b[0m             \u001b[0mopt\u001b[0m\u001b[0;34m.\u001b[0m\u001b[0mstep\u001b[0m\u001b[0;34m(\u001b[0m\u001b[0;34m)\u001b[0m\u001b[0;34m\u001b[0m\u001b[0;34m\u001b[0m\u001b[0m\n",
      "\u001b[0;31mAttributeError\u001b[0m: 'int' object has no attribute 'item'"
     ]
    }
   ],
   "source": [
    "train(model, opt, loss, data_1, 10, 10)"
   ]
  },
  {
   "cell_type": "code",
   "execution_count": null,
   "metadata": {},
   "outputs": [],
   "source": []
  }
 ],
 "metadata": {
  "kernelspec": {
   "display_name": "Python 3",
   "language": "python",
   "name": "python3"
  },
  "language_info": {
   "codemirror_mode": {
    "name": "ipython",
    "version": 3
   },
   "file_extension": ".py",
   "mimetype": "text/x-python",
   "name": "python",
   "nbconvert_exporter": "python",
   "pygments_lexer": "ipython3",
   "version": "3.7.5"
  }
 },
 "nbformat": 4,
 "nbformat_minor": 2
}
